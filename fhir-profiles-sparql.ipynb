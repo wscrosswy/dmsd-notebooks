{
 "cells": [
  {
   "cell_type": "code",
   "execution_count": 89,
   "id": "b8af7ab0-c59f-416b-8ba1-da07f754ffcf",
   "metadata": {},
   "outputs": [
    {
     "data": {
      "text/html": [
       "<div class=\"krn-spql\"><div class=\"magic\">Endpoint set to: http://localhost:5820/MyDB/update</div><div class=\"magic\">HTTP authentication: method=basic, user=spencer, passwd set</div><div class=\"magic\">Request format: ANY</div><div class=\"magic\">Display: table</div></div>"
      ],
      "text/plain": [
       "Endpoint set to: http://localhost:5820/MyDB/update\n",
       "HTTP authentication: method=basic, user=spencer, passwd set\n",
       "Request format: ANY\n",
       "Display: table\n"
      ]
     },
     "metadata": {},
     "output_type": "display_data"
    },
    {
     "data": {
      "text/plain": []
     },
     "metadata": {},
     "output_type": "display_data"
    }
   ],
   "source": [
    "%endpoint http://localhost:5820/MyDB/update\n",
    "%auth basic spencer 12345\n",
    "%format any\n",
    "%display table\n",
    "\n",
    "PREFIX fhir: <http://hl7.org/fhir/>\n",
    "PREFIX fhir_us_core: <http://hl7.org/fhir/us/core/StructureDefinition/>\n",
    "PREFIX fhir_nhs: <https://fhir.hl7.org.uk/STU3/StructureDefinition/>\n",
    "\n",
    "############################\n",
    "### MODIFY FHIR ONTOLOGY ###\n",
    "############################\n",
    "\n",
    "## Modify properties so their range is their fhir:Reference.type instead of a fhir:Reference.\n",
    "## (using Patient.generalPractitioner as an example)\n",
    "INSERT DATA {\n",
    "    fhir:Patient.generalPractitioner.range a           owl:Class ;\n",
    "                                           owl:unionOf (fhir:Organization fhir:Practitioner fhir:PractitionerRole) .\n",
    "};\n",
    "# modify Patient.generalPractitioner so its range is the expected types\n",
    "DELETE WHERE { fhir:Patient.generalPractitioner rdfs:range ?o };\n",
    "INSERT DATA {\n",
    "  fhir:Patient.generalPractitioner rdfs:range fhir:Patient.generalPractitioner.range .\n",
    "};\n",
    "# modify uses of Patient.generalPractitioner so they restrict the property using the expected types\n",
    "DELETE { ?bnode owl:allValuesFrom ?o }\n",
    "WHERE {\n",
    "    ?bnode a                 owl:Restriction ;\n",
    "           owl:onProperty    fhir:Patient.generalPractitioner ;\n",
    "           owl:allValuesFrom ?o .\n",
    "} ;\n",
    "INSERT { ?bnode owl:allValuesFrom fhir:Patient.generalPractitioner.range }\n",
    "WHERE {\n",
    "    ?bnode a                 owl:Restriction ;\n",
    "           owl:onProperty    fhir:Patient.generalPractitioner ;\n",
    "} ;\n",
    "\n",
    "\n",
    "#####################################\n",
    "### ADD PROFILES TO FHIR ONTOLOGY ###\n",
    "#####################################\n",
    "\n",
    "# create USCorePatient (at least enough of it for these examples)\n",
    "DELETE WHERE { fhir:USCorePatient ?p ?o };\n",
    "DELETE WHERE { fhir_us_core:us-core-patient ?p ?o };\n",
    "INSERT DATA {\n",
    "    fhir_us_core:us-core-patient a owl:Class ;\n",
    "        rdfs:subClassOf fhir:Patient ;\n",
    "        rdfs:subClassOf [ a                  owl:Restriction ;\n",
    "                          owl:onProperty     fhir:Patient.name ;\n",
    "                          owl:maxCardinality 1\n",
    "                        ] ;\n",
    "        rdfs:subClassOf [ a                  owl:Restriction ;\n",
    "                          owl:onProperty     fhir_us_core:us-core-patient.us_core_birthsex ;\n",
    "                          owl:maxCardinality 1\n",
    "                        ] .\n",
    "};\n",
    "\n",
    "# create NHSPatient (at least enough of it for these examples)\n",
    "DELETE WHERE { fhir:NHSPatient ?p ?o };\n",
    "DELETE WHERE { fhir_nhs:CareConnect-Patient-1 ?p ?o };\n",
    "INSERT DATA { fhir_nhs:CareConnect-Organization-1 a owl:Class; rdfs:subClassOf fhir:Organization . } ;\n",
    "INSERT DATA { fhir_nhs:CareConnect-Practitioner-1 a owl:Class; rdfs:subClassOf fhir:Practitioner . } ;\n",
    "INSERT DATA {\n",
    "    fhir_nhs:CareConnect-Patient-1.generalPractitioner.range a          owl:Class ;\n",
    "                                                             owl:unionOf (fhir_nhs:CareConnect-Organization-1 fhir_nhs:CareConnect-Practitioner-1) .\n",
    "} ;\n",
    "INSERT DATA {\n",
    "    fhir_nhs:CareConnect-Patient-1.generalPractitioner\n",
    "        a owl:ObjectProperty ;\n",
    "        rdfs:subPropertyOf fhir:Patient.generalPractitioner ;\n",
    "        rdfs:domain fhir_nhs:CareConnect-Patient-1 ;\n",
    "        rdfs:range fhir_nhs:CareConnect-Patient-1.generalPractitioner.range\n",
    "} ;\n",
    "INSERT DATA {\n",
    "    fhir_nhs:CareConnect-Patient-1 a owl:Class ;\n",
    "        rdfs:subClassOf fhir:Patient ;\n",
    "        rdfs:subClassOf [ a                  owl:Restriction ;\n",
    "                          owl:onProperty     fhir:Patient.name ;\n",
    "                          owl:cardinality 1\n",
    "                        ] ;\n",
    "        rdfs:subClassOf [ a                  owl:Restriction ;\n",
    "                          owl:onProperty     fhir_nhs:CareConnect-Patient-1.generalPractitioner ;\n",
    "                          owl:allValuesFrom  fhir_nhs:CareConnect-Patient-1.generalPractitioner.range ] .\n",
    "} ;\n",
    "\n",
    "# create dummy Patient profile illustrating a specific example\n",
    "DELETE WHERE { fhir:PatientProfileWithNameCardinalityOne ?p ?o };\n",
    "INSERT DATA {\n",
    "    fhir:PatientProfileWithNameCardinalityOne a owl:Class ;\n",
    "        rdfs:subClassOf fhir:Patient ;\n",
    "        rdfs:subClassOf [ a                  owl:Restriction ;\n",
    "                          owl:onProperty     fhir:Patient.name ;\n",
    "                          owl:cardinality 1\n",
    "                        ] .\n",
    "} ;"
   ]
  },
  {
   "cell_type": "code",
   "execution_count": 88,
   "id": "8526ed10",
   "metadata": {},
   "outputs": [
    {
     "data": {
      "text/html": [
       "<div class=\"krn-spql\"><div class=\"magic\">Endpoint set to: http://localhost:5820/MyDB/query</div><div class=\"magic\">HTTP authentication: method=basic, user=spencer, passwd set</div><div class=\"magic\">Request format: ANY</div><div class=\"magic\">Display: table</div></div>"
      ],
      "text/plain": [
       "Endpoint set to: http://localhost:5820/MyDB/query\n",
       "HTTP authentication: method=basic, user=spencer, passwd set\n",
       "Request format: ANY\n",
       "Display: table\n"
      ]
     },
     "metadata": {},
     "output_type": "display_data"
    },
    {
     "data": {
      "text/html": [
       "<div class=\"krn-spql\"><table><tr class=hdr><th>cls1</th>\n",
       "<th>cls2</th>\n",
       "<th>p1</th></tr><tr class=odd><td class=val><a href=\"http://hl7.org/fhir/us/core/StructureDefinition/us-core-patient\" target=\"_other\">http://hl7.org/fhir/us/core/StructureDefinition/us-core-patient</a></td>\n",
       "<td class=val><a href=\"http://hl7.org/fhir/PatientProfileWithNameCardinalityOne\" target=\"_other\">http://hl7.org/fhir/PatientProfileWithNameCardinalityOne</a></td>\n",
       "<td class=val><a href=\"http://hl7.org/fhir/us/core/StructureDefinition/us-core-patient.us_core_birthsex\" target=\"_other\">http://hl7.org/fhir/us/core/StructureDefinition/us-core-patient.us_core_birthsex</a></td></tr><tr class=even><td class=val><a href=\"http://hl7.org/fhir/us/core/StructureDefinition/us-core-patient\" target=\"_other\">http://hl7.org/fhir/us/core/StructureDefinition/us-core-patient</a></td>\n",
       "<td class=val><a href=\"https://fhir.hl7.org.uk/STU3/StructureDefinition/CareConnect-Patient-1\" target=\"_other\">https://fhir.hl7.org.uk/STU3/StructureDefinition/CareConnect-Patient-1</a></td>\n",
       "<td class=val><a href=\"http://hl7.org/fhir/us/core/StructureDefinition/us-core-patient.us_core_birthsex\" target=\"_other\">http://hl7.org/fhir/us/core/StructureDefinition/us-core-patient.us_core_birthsex</a></td></tr><tr class=odd><td class=val><a href=\"https://fhir.hl7.org.uk/STU3/StructureDefinition/CareConnect-Patient-1\" target=\"_other\">https://fhir.hl7.org.uk/STU3/StructureDefinition/CareConnect-Patient-1</a></td>\n",
       "<td class=val><a href=\"http://hl7.org/fhir/PatientProfileWithNameCardinalityOne\" target=\"_other\">http://hl7.org/fhir/PatientProfileWithNameCardinalityOne</a></td>\n",
       "<td class=val><a href=\"https://fhir.hl7.org.uk/STU3/StructureDefinition/CareConnect-Patient-1.generalPractitioner\" target=\"_other\">https://fhir.hl7.org.uk/STU3/StructureDefinition/CareConnect-Patient-1.generalPractitioner</a></td></tr><tr class=even><td class=val><a href=\"https://fhir.hl7.org.uk/STU3/StructureDefinition/CareConnect-Patient-1\" target=\"_other\">https://fhir.hl7.org.uk/STU3/StructureDefinition/CareConnect-Patient-1</a></td>\n",
       "<td class=val><a href=\"http://hl7.org/fhir/us/core/StructureDefinition/us-core-patient\" target=\"_other\">http://hl7.org/fhir/us/core/StructureDefinition/us-core-patient</a></td>\n",
       "<td class=val><a href=\"https://fhir.hl7.org.uk/STU3/StructureDefinition/CareConnect-Patient-1.generalPractitioner\" target=\"_other\">https://fhir.hl7.org.uk/STU3/StructureDefinition/CareConnect-Patient-1.generalPractitioner</a></td></tr></table><div class=\"tinfo\">Total: 4, Shown: 4</div></div>"
      ]
     },
     "metadata": {},
     "output_type": "display_data"
    }
   ],
   "source": [
    "######################\n",
    "# ATTRIBUTE PRESENCE #\n",
    "######################\n",
    "\n",
    "%endpoint http://localhost:5820/MyDB/query\n",
    "%auth basic spencer 12345\n",
    "%format any\n",
    "%display table\n",
    "\n",
    "PREFIX fhir: <http://hl7.org/fhir/>\n",
    "\n",
    "# Get all instances of profile pairs (cls1 cls2) where\n",
    "# one profile has a property the other doesn't.\n",
    "SELECT ?cls1 ?cls2 ?p1\n",
    "WHERE {\n",
    "    ?cls1 rdfs:subClassOf fhir:Patient .\n",
    "    ?cls2 rdfs:subClassOf fhir:Patient .\n",
    "    ?cls1 rdfs:subClassOf [ a      owl:Restriction ;\n",
    "                                   owl:onProperty ?p1 ;\n",
    "                          ] .\n",
    "    FILTER NOT EXISTS {\n",
    "        ?cls2 rdfs:subClassOf [ a      owl:Restriction ;\n",
    "                                   owl:onProperty ?p1 ;\n",
    "                              ] .\n",
    "    }\n",
    "}"
   ]
  },
  {
   "cell_type": "code",
   "execution_count": 91,
   "id": "7eba0e06-0a9a-4c4b-99cd-315dcc033b98",
   "metadata": {},
   "outputs": [
    {
     "data": {
      "text/html": [
       "<div class=\"krn-spql\"><div class=\"magic\">Endpoint set to: http://localhost:5820/MyDB/query</div><div class=\"magic\">HTTP authentication: method=basic, user=spencer, passwd set</div><div class=\"magic\">Request format: ANY</div><div class=\"magic\">Display: table</div></div>"
      ],
      "text/plain": [
       "Endpoint set to: http://localhost:5820/MyDB/query\n",
       "HTTP authentication: method=basic, user=spencer, passwd set\n",
       "Request format: ANY\n",
       "Display: table\n"
      ]
     },
     "metadata": {},
     "output_type": "display_data"
    },
    {
     "data": {
      "text/html": [
       "<div class=\"krn-spql\"><table><tr class=hdr><th>cls1</th>\n",
       "<th>cls2</th>\n",
       "<th>property</th>\n",
       "<th>card_restriction_1</th>\n",
       "<th>card_1</th>\n",
       "<th>card_restriction_2</th>\n",
       "<th>card_2</th></tr><tr class=odd><td class=val><a href=\"https://fhir.hl7.org.uk/STU3/StructureDefinition/CareConnect-Patient-1\" target=\"_other\">https://fhir.hl7.org.uk/STU3/StructureDefinition/CareConnect-Patient-1</a></td>\n",
       "<td class=val><a href=\"http://hl7.org/fhir/us/core/StructureDefinition/us-core-patient\" target=\"_other\">http://hl7.org/fhir/us/core/StructureDefinition/us-core-patient</a></td>\n",
       "<td class=val><a href=\"http://hl7.org/fhir/Patient.name\" target=\"_other\">http://hl7.org/fhir/Patient.name</a></td>\n",
       "<td class=val><a href=\"http://www.w3.org/2002/07/owl#cardinality\" target=\"_other\">http://www.w3.org/2002/07/owl#cardinality</a></td>\n",
       "<td class=val>1</td>\n",
       "<td class=val><a href=\"http://www.w3.org/2002/07/owl#maxCardinality\" target=\"_other\">http://www.w3.org/2002/07/owl#maxCardinality</a></td>\n",
       "<td class=val>1</td></tr><tr class=even><td class=val><a href=\"http://hl7.org/fhir/PatientProfileWithNameCardinalityOne\" target=\"_other\">http://hl7.org/fhir/PatientProfileWithNameCardinalityOne</a></td>\n",
       "<td class=val><a href=\"http://hl7.org/fhir/us/core/StructureDefinition/us-core-patient\" target=\"_other\">http://hl7.org/fhir/us/core/StructureDefinition/us-core-patient</a></td>\n",
       "<td class=val><a href=\"http://hl7.org/fhir/Patient.name\" target=\"_other\">http://hl7.org/fhir/Patient.name</a></td>\n",
       "<td class=val><a href=\"http://www.w3.org/2002/07/owl#cardinality\" target=\"_other\">http://www.w3.org/2002/07/owl#cardinality</a></td>\n",
       "<td class=val>1</td>\n",
       "<td class=val><a href=\"http://www.w3.org/2002/07/owl#maxCardinality\" target=\"_other\">http://www.w3.org/2002/07/owl#maxCardinality</a></td>\n",
       "<td class=val>1</td></tr><tr class=odd><td class=val><a href=\"http://hl7.org/fhir/us/core/StructureDefinition/us-core-patient\" target=\"_other\">http://hl7.org/fhir/us/core/StructureDefinition/us-core-patient</a></td>\n",
       "<td class=val><a href=\"https://fhir.hl7.org.uk/STU3/StructureDefinition/CareConnect-Patient-1\" target=\"_other\">https://fhir.hl7.org.uk/STU3/StructureDefinition/CareConnect-Patient-1</a></td>\n",
       "<td class=val><a href=\"http://hl7.org/fhir/Patient.name\" target=\"_other\">http://hl7.org/fhir/Patient.name</a></td>\n",
       "<td class=val><a href=\"http://www.w3.org/2002/07/owl#maxCardinality\" target=\"_other\">http://www.w3.org/2002/07/owl#maxCardinality</a></td>\n",
       "<td class=val>1</td>\n",
       "<td class=val><a href=\"http://www.w3.org/2002/07/owl#cardinality\" target=\"_other\">http://www.w3.org/2002/07/owl#cardinality</a></td>\n",
       "<td class=val>1</td></tr><tr class=even><td class=val><a href=\"http://hl7.org/fhir/us/core/StructureDefinition/us-core-patient\" target=\"_other\">http://hl7.org/fhir/us/core/StructureDefinition/us-core-patient</a></td>\n",
       "<td class=val><a href=\"http://hl7.org/fhir/PatientProfileWithNameCardinalityOne\" target=\"_other\">http://hl7.org/fhir/PatientProfileWithNameCardinalityOne</a></td>\n",
       "<td class=val><a href=\"http://hl7.org/fhir/Patient.name\" target=\"_other\">http://hl7.org/fhir/Patient.name</a></td>\n",
       "<td class=val><a href=\"http://www.w3.org/2002/07/owl#maxCardinality\" target=\"_other\">http://www.w3.org/2002/07/owl#maxCardinality</a></td>\n",
       "<td class=val>1</td>\n",
       "<td class=val><a href=\"http://www.w3.org/2002/07/owl#cardinality\" target=\"_other\">http://www.w3.org/2002/07/owl#cardinality</a></td>\n",
       "<td class=val>1</td></tr></table><div class=\"tinfo\">Total: 4, Shown: 4</div></div>"
      ]
     },
     "metadata": {},
     "output_type": "display_data"
    }
   ],
   "source": [
    "#########################\n",
    "# ATTRIBUTE CARDINALITY #\n",
    "#########################\n",
    "\n",
    "%endpoint http://localhost:5820/MyDB/query\n",
    "%auth basic spencer 12345\n",
    "%format any \n",
    "%display table\n",
    "\n",
    "PREFIX fhir: <http://hl7.org/fhir/>\n",
    "\n",
    "# Get all instances of profile pairs (cls1 cls2) where the profiles\n",
    "# restrict cardinality in a different way.\n",
    "SELECT DISTINCT ?cls1 ?cls2 ?property ?card_restriction_1 ?card_1 ?card_restriction_2 ?card_2\n",
    "WHERE {\n",
    "    ?cls1 rdfs:subClassOf fhir:Patient .\n",
    "    ?cls2 rdfs:subClassOf fhir:Patient .\n",
    "    fhir:Patient rdfs:subClassOf [ a              owl:Restriction ;\n",
    "                                   owl:onProperty ?property ;\n",
    "                                 ] .\n",
    "    ?cls1 rdfs:subClassOf  [ a                  owl:Restriction ;\n",
    "                             owl:onProperty     ?property ;\n",
    "                             ?card_restriction_1 ?card_1\n",
    "                           ] .\n",
    "    ?cls2 rdfs:subClassOf  [ a                  owl:Restriction ;\n",
    "                             owl:onProperty     ?property ;\n",
    "                             ?card_restriction_2 ?card_2\n",
    "                           ] .\n",
    "    \n",
    "    FILTER (?cls1 != ?cls2) .\n",
    "    FILTER (?card_restriction_1 IN (owl:cardinality, owl:maxCardinality, owl:minCardinality ) ) .\n",
    "    FILTER (?card_restriction_2 IN (owl:cardinality, owl:maxCardinality, owl:minCardinality ) ) .\n",
    "    FILTER (?card_restriction_1 != ?card_restriction_2 || ?card_1 != ?card_2) .\n",
    "}"
   ]
  },
  {
   "cell_type": "code",
   "execution_count": null,
   "id": "5b9ed06f",
   "metadata": {},
   "outputs": [],
   "source": []
  }
 ],
 "metadata": {
  "kernelspec": {
   "display_name": "SPARQL",
   "language": "sparql",
   "name": "sparql"
  },
  "language_info": {
   "codemirror_mode": {
    "name": "sparql"
   },
   "mimetype": "application/sparql-query",
   "name": "sparql",
   "pygments_lexer": "sparql-nb"
  }
 },
 "nbformat": 4,
 "nbformat_minor": 5
}
