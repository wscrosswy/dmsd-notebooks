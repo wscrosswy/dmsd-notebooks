{
 "cells": [
  {
   "cell_type": "code",
   "execution_count": 26,
   "id": "f8d389a1-aa4f-4b00-99d9-a761c5c6a9e5",
   "metadata": {},
   "outputs": [
    {
     "data": {
      "text/html": [
       "<div class=\"krn-spql\"><div class=\"magic\">Endpoint set to: http://localhost:5820/MyDB/update</div><div class=\"magic\">HTTP authentication: method=basic, user=spencer, passwd set</div><div class=\"magic\">Request format: ANY</div><div class=\"magic\">Display: table</div></div>"
      ],
      "text/plain": [
       "Endpoint set to: http://localhost:5820/MyDB/update\n",
       "HTTP authentication: method=basic, user=spencer, passwd set\n",
       "Request format: ANY\n",
       "Display: table\n"
      ]
     },
     "metadata": {},
     "output_type": "display_data"
    }
   ],
   "source": []
  },
  {
   "cell_type": "code",
   "execution_count": 45,
   "id": "b8af7ab0-c59f-416b-8ba1-da07f754ffcf",
   "metadata": {},
   "outputs": [
    {
     "data": {
      "text/html": [
       "<div class=\"krn-spql\"><div class=\"magic\">Endpoint set to: http://localhost:5820/MyDB/update</div><div class=\"magic\">HTTP authentication: method=basic, user=spencer, passwd set</div><div class=\"magic\">Request format: ANY</div><div class=\"magic\">Display: table</div></div>"
      ],
      "text/plain": [
       "Endpoint set to: http://localhost:5820/MyDB/update\n",
       "HTTP authentication: method=basic, user=spencer, passwd set\n",
       "Request format: ANY\n",
       "Display: table\n"
      ]
     },
     "metadata": {},
     "output_type": "display_data"
    },
    {
     "data": {
      "text/plain": []
     },
     "metadata": {},
     "output_type": "display_data"
    }
   ],
   "source": [
    "%endpoint http://localhost:5820/MyDB/update\n",
    "%auth basic spencer 12345\n",
    "%format any\n",
    "%display table\n",
    "\n",
    "PREFIX fhir: <http://hl7.org/fhir/>\n",
    "\n",
    "DELETE WHERE { fhir:USCorePatient ?p ?o };\n",
    "INSERT DATA {\n",
    "    fhir:USCorePatient a owl:Class ;\n",
    "        rdfs:subClassOf fhir:Patient ;\n",
    "        rdfs:subClassOf [ a                  owl:Restriction ;\n",
    "                          owl:onProperty     fhir:Patient.name ;\n",
    "                          owl:maxCardinality 1\n",
    "                        ] .\n",
    "};\n",
    "\n",
    "DELETE WHERE { fhir:NHSPatient ?p ?o };\n",
    "INSERT DATA {\n",
    "    fhir:NHSPatient a owl:Class ;\n",
    "        rdfs:subClassOf fhir:Patient ;\n",
    "        rdfs:subClassOf [ a                  owl:Restriction ;\n",
    "                          owl:onProperty     fhir:Patient.name ;\n",
    "                          owl:cardinality 1\n",
    "                        ] .\n",
    "};\n",
    "\n",
    "DELETE WHERE { fhir:PatientProfileWithNameCardinalityOne ?p ?o };\n",
    "INSERT DATA {\n",
    "    fhir:PatientProfileWithNameCardinalityOne a owl:Class ;\n",
    "        rdfs:subClassOf fhir:Patient ;\n",
    "        rdfs:subClassOf [ a                  owl:Restriction ;\n",
    "                          owl:onProperty     fhir:Patient.name ;\n",
    "                          owl:cardinality 1\n",
    "                        ] .\n",
    "};"
   ]
  },
  {
   "cell_type": "code",
   "execution_count": 49,
   "id": "8526ed10",
   "metadata": {},
   "outputs": [
    {
     "data": {
      "text/html": [
       "<div class=\"krn-spql\"><div class=\"magic\">Endpoint set to: http://localhost:5820/MyDB/query</div><div class=\"magic\">HTTP authentication: method=basic, user=spencer, passwd set</div><div class=\"magic\">Request format: ANY</div><div class=\"magic\">Display: table</div></div>"
      ],
      "text/plain": [
       "Endpoint set to: http://localhost:5820/MyDB/query\n",
       "HTTP authentication: method=basic, user=spencer, passwd set\n",
       "Request format: ANY\n",
       "Display: table\n"
      ]
     },
     "metadata": {},
     "output_type": "display_data"
    },
    {
     "data": {
      "text/html": [
       "<div class=\"krn-spql\"><table><tr class=hdr><th>cls1</th>\n",
       "<th>cls2</th>\n",
       "<th>property</th>\n",
       "<th>restriction_type1</th>\n",
       "<th>v1</th>\n",
       "<th>restriction_type2</th>\n",
       "<th>v2</th></tr></table><div class=\"tinfo\">Total: 0, Shown: 0</div></div>"
      ]
     },
     "metadata": {},
     "output_type": "display_data"
    }
   ],
   "source": [
    "%endpoint http://localhost:5820/MyDB/query\n",
    "%auth basic spencer 12345\n",
    "%format any\n",
    "%display table\n",
    "\n",
    "PREFIX fhir: <http://hl7.org/fhir/>\n",
    "\n",
    "# Get all instances of profile pairs (cls1 cls2) where the profiles\n",
    "# restrict cardinality in a different way.\n",
    "SELECT DISTINCT ?cls1 ?cls2 ?property ?restriction_type1 ?v1 ?restriction_type2 ?v2\n",
    "WHERE {\n",
    "    ?cls1 rdfs:subClassOf fhir:Patient .\n",
    "    ?cls2 rdfs:subClassOf fhir:Patient .\n",
    "    fhir:Patient rdfs:subClassOf [ a              owl:Restriction ;\n",
    "                                   owl:onProperty ?property ;\n",
    "                                 ] .\n",
    "    ?cls1 rdfs:subClassOf  [ a                  owl:Restriction ;\n",
    "                             owl:onProperty     ?property ;\n",
    "                             ?restriction_type1 ?v1\n",
    "                           ] .\n",
    "    ?cls2 rdfs:subClassOf  [ a                  owl:Restriction ;\n",
    "                             owl:onProperty     ?property ;\n",
    "                             ?restriction_type2 ?v2\n",
    "                           ] .\n",
    "\n",
    "    FILTER (?cls1 != ?cls2)\n",
    "    FILTER (?restriction_type1 IN (owl:cardinality, owl:maxCardinality, owl:minCardinality ) ) .\n",
    "    FILTER (?restriction_type2 IN (owl:cardinality, owl:maxCardinality, owl:minCardinality ) ) .\n",
    "    FILTER (?restriction_type1 != ?restriction_type2 || ?v1 != ?v2) .\n",
    "}"
   ]
  },
  {
   "cell_type": "code",
   "execution_count": 46,
   "id": "7eba0e06-0a9a-4c4b-99cd-315dcc033b98",
   "metadata": {},
   "outputs": [
    {
     "data": {
      "text/html": [
       "<div class=\"krn-spql\"><div class=\"magic\">Endpoint set to: http://localhost:5820/MyDB/query</div><div class=\"magic\">HTTP authentication: method=basic, user=spencer, passwd set</div><div class=\"magic\">Request format: ANY</div><div class=\"magic\">Display: table</div></div>"
      ],
      "text/plain": [
       "Endpoint set to: http://localhost:5820/MyDB/query\n",
       "HTTP authentication: method=basic, user=spencer, passwd set\n",
       "Request format: ANY\n",
       "Display: table\n"
      ]
     },
     "metadata": {},
     "output_type": "display_data"
    },
    {
     "data": {
      "text/html": [
       "<div class=\"krn-spql\"><table><tr class=hdr><th>cls</th></tr><tr class=odd><td class=val><a href=\"http://hl7.org/fhir/USCorePatient\" target=\"_other\">http://hl7.org/fhir/USCorePatient</a></td></tr><tr class=even><td class=val><a href=\"http://hl7.org/fhir/NHSPatient\" target=\"_other\">http://hl7.org/fhir/NHSPatient</a></td></tr><tr class=odd><td class=val><a href=\"http://hl7.org/fhir/PatientProfileWithNameCardinalityOne\" target=\"_other\">http://hl7.org/fhir/PatientProfileWithNameCardinalityOne</a></td></tr></table><div class=\"tinfo\">Total: 3, Shown: 3</div></div>"
      ]
     },
     "metadata": {},
     "output_type": "display_data"
    }
   ],
   "source": [
    "%endpoint http://localhost:5820/MyDB/query\n",
    "%auth basic spencer 12345\n",
    "%format any\n",
    "%display table\n",
    "\n",
    "PREFIX fhir: <http://hl7.org/fhir/>\n",
    "\n",
    "SELECT ?cls WHERE { ?cls rdfs:subClassOf fhir:Patient }"
   ]
  },
  {
   "cell_type": "code",
   "execution_count": null,
   "id": "a80d004b-b546-4136-a025-fbaf096864fe",
   "metadata": {},
   "outputs": [],
   "source": []
  }
 ],
 "metadata": {
  "kernelspec": {
   "display_name": "SPARQL",
   "language": "sparql",
   "name": "sparql"
  },
  "language_info": {
   "codemirror_mode": {
    "name": "sparql"
   },
   "mimetype": "application/sparql-query",
   "name": "sparql",
   "pygments_lexer": "sparql-nb"
  }
 },
 "nbformat": 4,
 "nbformat_minor": 5
}
